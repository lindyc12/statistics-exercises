{
 "cells": [
  {
   "cell_type": "markdown",
   "id": "54d76ebc",
   "metadata": {},
   "source": [
    "# Hypothesis Testing Exercise"
   ]
  },
  {
   "cell_type": "markdown",
   "id": "7cfaeda3",
   "metadata": {},
   "source": [
    "By Lindy Castellaw Jessica Gardin, David Schneemann, Meredith Wang"
   ]
  },
  {
   "cell_type": "markdown",
   "id": "feaf7345",
   "metadata": {},
   "source": [
    "# 1 Has the network latency gone up since we switched internet service providers?"
   ]
  },
  {
   "cell_type": "markdown",
   "id": "edf1f106",
   "metadata": {},
   "source": [
    "H0 = The time for computer ping has increased."
   ]
  },
  {
   "cell_type": "markdown",
   "id": "6c8ba891",
   "metadata": {},
   "source": [
    "Ha = The time for computer ping is equal or has decreased."
   ]
  },
  {
   "cell_type": "markdown",
   "id": "b608e0f5",
   "metadata": {},
   "source": [
    "True Positive\n",
    "\n",
    "    small p-value -- < alpha (.001)\n",
    "    reject 𝐻0\n",
    "\n",
    "    (The data shows that survey score did improve)\n",
    "    avg survey score before switching internet service: 60 ms\n",
    "    avg survey score after switching internet service: 65 ms\n",
    "\n",
    "False Positive\n",
    "\n",
    "    small p-value\n",
    "    reject 𝐻0\n",
    "\n",
    "    test was re-taken while internet activity had significantly increased, causing an increase in ping time\n",
    "\n",
    "True Negative\n",
    "\n",
    "    higher p-value\n",
    "    fail to reject 𝐻0\n",
    "\n",
    "    (The data shows that survey score did improve)\n",
    "    avg survey score before switching internet service: 65 ms\n",
    "    avg survey score after switching internet service: 60 ms\n",
    "\n",
    "False Negative\n",
    "\n",
    "    higher p-value\n",
    "    fail to reject 𝐻0\n",
    "    \n",
    "    test was originally taken while internet activity had significantly increased, causing an increase in ping time\n",
    "\n"
   ]
  },
  {
   "cell_type": "markdown",
   "id": "d50da751",
   "metadata": {},
   "source": [
    "# 2 Is the website redesign any good?"
   ]
  },
  {
   "cell_type": "markdown",
   "id": "a04b10a4",
   "metadata": {},
   "source": [
    "H0 = Website has same or fewer visits."
   ]
  },
  {
   "cell_type": "markdown",
   "id": "e8b34e7d",
   "metadata": {},
   "source": [
    "Ha = Website has more visits."
   ]
  },
  {
   "cell_type": "markdown",
   "id": "2c08d199",
   "metadata": {},
   "source": [
    "True Positive\n",
    "\n",
    "    small p-value -- < alpha (.001)\n",
    "    reject 𝐻0\n",
    "\n",
    "    (The data shows that redesign did improve the website)\n",
    "    avg visits before redesign: 1,000\n",
    "    avg visits after redesign: 5,000\n",
    "\n",
    "False Positive\n",
    "\n",
    "    small p-value\n",
    "    reject 𝐻0\n",
    "\n",
    "    avg visits before redesign: 1,000\n",
    "    avg visits after redesign: 5,000\n",
    "    \n",
    "    Second test was done on Cyber Monday\n",
    "\n",
    "True Negative\n",
    "\n",
    "    higher p-value\n",
    "    fail to reject 𝐻0\n",
    "\n",
    "    (The data shows that the website did worse after redesign)\n",
    "    avg visits before redesign: 5,000\n",
    "    avg visits after redesign: 1,000\n",
    "\n",
    "False Negative\n",
    "\n",
    "    higher p-value\n",
    "    fail to reject 𝐻0\n",
    "    \n",
    "    (The data shows that the website did worse after redesign)\n",
    "    avg visits before redesign: 5,000\n",
    "    avg visits after redesign: 1,000\n",
    "\n",
    "    website crashed during re-test"
   ]
  },
  {
   "cell_type": "markdown",
   "id": "81195282",
   "metadata": {},
   "source": [
    "# 3 Is our television ad driving more sales?"
   ]
  },
  {
   "cell_type": "markdown",
   "id": "4dea8af1",
   "metadata": {},
   "source": [
    "H0 = Monthly Avg sales stayed the same or decreased after airing ad"
   ]
  },
  {
   "cell_type": "markdown",
   "id": "552cc017",
   "metadata": {},
   "source": [
    "Ha = Monthly Avg sales increased after airing ad"
   ]
  },
  {
   "cell_type": "markdown",
   "id": "1026768f",
   "metadata": {},
   "source": [
    "True Positive\n",
    "\n",
    "    small p-value -- < alpha (.001)\n",
    "    reject 𝐻0\n",
    "\n",
    "    (The data shows that sales increased after airing ad)\n",
    "    avg monthly sales before ad: 10,000\n",
    "    avg monthly sales after ad: 15,000\n",
    "\n",
    "False Positive\n",
    "\n",
    "    small p-value\n",
    "    reject 𝐻0\n",
    "\n",
    "    (The data shows that sales increased after airing ad)\n",
    "    avg monthly sales before ad: 10,000\n",
    "    avg monthly sales after ad: 15,000\n",
    "    \n",
    "    competitor across street closed for second test\n",
    "\n",
    "True Negative\n",
    "\n",
    "    higher p-value\n",
    "    fail to reject 𝐻0\n",
    "\n",
    "    (The data shows that sales decreased after airing ad)\n",
    "    avg monthly sales before ad: 15,000\n",
    "    avg monthly sales after ad: 10,000\n",
    "\n",
    "False Negative\n",
    "\n",
    "    higher p-value\n",
    "    fail to reject 𝐻0\n",
    "    \n",
    "    (The data shows that sales decreased after airing ad)\n",
    "    avg monthly sales before ad: 15,000\n",
    "    avg monthly sales after ad: 10,000\n",
    "\n",
    "    extreme weather caused lower customer traffic "
   ]
  }
 ],
 "metadata": {
  "kernelspec": {
   "display_name": "Python 3 (ipykernel)",
   "language": "python",
   "name": "python3"
  },
  "language_info": {
   "codemirror_mode": {
    "name": "ipython",
    "version": 3
   },
   "file_extension": ".py",
   "mimetype": "text/x-python",
   "name": "python",
   "nbconvert_exporter": "python",
   "pygments_lexer": "ipython3",
   "version": "3.9.12"
  }
 },
 "nbformat": 4,
 "nbformat_minor": 5
}
