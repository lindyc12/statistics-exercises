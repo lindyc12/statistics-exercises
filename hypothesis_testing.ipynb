{
 "cells": [
  {
   "cell_type": "markdown",
   "id": "54d76ebc",
   "metadata": {},
   "source": [
    "# Hypothesis Testing Exercise"
   ]
  },
  {
   "cell_type": "markdown",
   "id": "7cfaeda3",
   "metadata": {},
   "source": [
    "By Lindy Castellaw Jessica Gardin, David Schneemann, Meredith Wang"
   ]
  },
  {
   "cell_type": "markdown",
   "id": "feaf7345",
   "metadata": {},
   "source": [
    "# 1 Has the network latency gone up since we switched internet service providers?"
   ]
  },
  {
   "cell_type": "markdown",
   "id": "edf1f106",
   "metadata": {},
   "source": [
    "H0 = The time for computer ping has increased."
   ]
  },
  {
   "cell_type": "markdown",
   "id": "6c8ba891",
   "metadata": {},
   "source": [
    "Ha = The time for computer ping is equal or has decreased."
   ]
  },
  {
   "cell_type": "markdown",
   "id": "b608e0f5",
   "metadata": {},
   "source": [
    "True Positive\n",
    "\n",
    "    small p-value -- < alpha (.001)\n",
    "    reject 𝐻0\n",
    "\n",
    "    (The data shows that survey score did improve)\n",
    "    avg survey score before switching internet service: 65 ms\n",
    "    avg survey score after switching internet service: 60 ms\n",
    "\n",
    "False Positive\n",
    "\n",
    "    small p-value\n",
    "    reject 𝐻0\n",
    "\n",
    "    test was re-taken while internet activity had significantly increased, causing an increase in ping time\n",
    "\n",
    "True Negative\n",
    "\n",
    "    higher p-value\n",
    "    fail to reject 𝐻0\n",
    "\n",
    "    (The data shows that survey score did improve)\n",
    "    avg survey score before switching internet service: 65 ms\n",
    "    avg survey score after switching internet service: 60 ms\n",
    "\n",
    "False Negative\n",
    "\n",
    "    higher p-value\n",
    "    fail to reject 𝐻0\n",
    "    \n",
    "    test was originally taken while internet activity had significantly increased, causing an increase in ping time\n",
    "\n"
   ]
  },
  {
   "cell_type": "markdown",
   "id": "d50da751",
   "metadata": {},
   "source": [
    "# 2 Is the website redesign any good?"
   ]
  },
  {
   "cell_type": "markdown",
   "id": "a04b10a4",
   "metadata": {},
   "source": [
    "H0 = Website has same or fewer visits."
   ]
  },
  {
   "cell_type": "markdown",
   "id": "e8b34e7d",
   "metadata": {},
   "source": [
    "Ha = Website has more visits."
   ]
  },
  {
   "cell_type": "markdown",
   "id": "2c08d199",
   "metadata": {},
   "source": [
    "True Positive\n",
    "\n",
    "    small p-value -- < alpha (.001)\n",
    "    reject 𝐻0\n",
    "\n",
    "    (The data shows that redesign did improve the website)\n",
    "    avg visits before redesign: 1,000\n",
    "    avg visits after redesign: 5,000\n",
    "\n",
    "False Positive\n",
    "\n",
    "    small p-value\n",
    "    reject 𝐻0\n",
    "\n",
    "    avg visits before redesign: 1,000\n",
    "    avg visits after redesign: 5,000\n",
    "    \n",
    "    Second test was done on Cyber Monday\n",
    "\n",
    "True Negative\n",
    "\n",
    "    higher p-value\n",
    "    fail to reject 𝐻0\n",
    "\n",
    "    (The data shows that the website did worse after redesign)\n",
    "    avg visits before redesign: 5,000\n",
    "    avg visits after redesign: 1,000\n",
    "\n",
    "False Negative\n",
    "\n",
    "    higher p-value\n",
    "    fail to reject 𝐻0\n",
    "    \n",
    "    (The data shows that the website did worse after redesign)\n",
    "    avg visits before redesign: 5,000\n",
    "    avg visits after redesign: 1,000\n",
    "\n",
    "    website crashed during re-test"
   ]
  },
  {
   "cell_type": "markdown",
   "id": "81195282",
   "metadata": {},
   "source": [
    "# 3 Is our television ad driving more sales?"
   ]
  },
  {
   "cell_type": "markdown",
   "id": "4dea8af1",
   "metadata": {},
   "source": [
    "H0 = Monthly Avg sales stayed the same or decreased after airing ad"
   ]
  },
  {
   "cell_type": "markdown",
   "id": "552cc017",
   "metadata": {},
   "source": [
    "Ha = Monthly Avg sales increased after airing ad"
   ]
  },
  {
   "cell_type": "markdown",
   "id": "1026768f",
   "metadata": {},
   "source": [
    "True Positive\n",
    "\n",
    "    small p-value -- < alpha (.001)\n",
    "    reject 𝐻0\n",
    "\n",
    "    (The data shows that sales increased after airing ad)\n",
    "    avg monthly sales before ad: 10,000\n",
    "    avg monthly sales after ad: 15,000\n",
    "\n",
    "False Positive\n",
    "\n",
    "    small p-value\n",
    "    reject 𝐻0\n",
    "\n",
    "    (The data shows that sales increased after airing ad)\n",
    "    avg monthly sales before ad: 10,000\n",
    "    avg monthly sales after ad: 15,000\n",
    "    \n",
    "    competitor across street closed for second test\n",
    "\n",
    "True Negative\n",
    "\n",
    "    higher p-value\n",
    "    fail to reject 𝐻0\n",
    "\n",
    "    (The data shows that sales decreased after airing ad)\n",
    "    avg monthly sales before ad: 15,000\n",
    "    avg monthly sales after ad: 10,000\n",
    "\n",
    "False Negative\n",
    "\n",
    "    higher p-value\n",
    "    fail to reject 𝐻0\n",
    "    \n",
    "    (The data shows that sales decreased after airing ad)\n",
    "    avg monthly sales before ad: 15,000\n",
    "    avg monthly sales after ad: 10,000\n",
    "\n",
    "    extreme weather caused lower customer traffic "
   ]
  },
  {
   "cell_type": "code",
   "execution_count": 1,
   "id": "5f69216b",
   "metadata": {},
   "outputs": [],
   "source": [
    "import numpy as np\n",
    "import seaborn as sns\n",
    "import scipy.stats as stats\n",
    "import pandas as pd\n",
    "import matplotlib.pyplot as plt"
   ]
  },
  {
   "cell_type": "code",
   "execution_count": null,
   "id": "43f4a537",
   "metadata": {},
   "outputs": [],
   "source": []
  },
  {
   "cell_type": "code",
   "execution_count": 2,
   "id": "3627320a",
   "metadata": {},
   "outputs": [
    {
     "data": {
      "text/html": [
       "<div>\n",
       "<style scoped>\n",
       "    .dataframe tbody tr th:only-of-type {\n",
       "        vertical-align: middle;\n",
       "    }\n",
       "\n",
       "    .dataframe tbody tr th {\n",
       "        vertical-align: top;\n",
       "    }\n",
       "\n",
       "    .dataframe thead th {\n",
       "        text-align: right;\n",
       "    }\n",
       "</style>\n",
       "<table border=\"1\" class=\"dataframe\">\n",
       "  <thead>\n",
       "    <tr style=\"text-align: right;\">\n",
       "      <th></th>\n",
       "      <th>manufacturer</th>\n",
       "      <th>model</th>\n",
       "      <th>displ</th>\n",
       "      <th>year</th>\n",
       "      <th>cyl</th>\n",
       "      <th>trans</th>\n",
       "      <th>drv</th>\n",
       "      <th>cty</th>\n",
       "      <th>hwy</th>\n",
       "      <th>fl</th>\n",
       "      <th>class</th>\n",
       "    </tr>\n",
       "  </thead>\n",
       "  <tbody>\n",
       "    <tr>\n",
       "      <th>1</th>\n",
       "      <td>audi</td>\n",
       "      <td>a4</td>\n",
       "      <td>1.8</td>\n",
       "      <td>1999</td>\n",
       "      <td>4</td>\n",
       "      <td>auto(l5)</td>\n",
       "      <td>f</td>\n",
       "      <td>18</td>\n",
       "      <td>29</td>\n",
       "      <td>p</td>\n",
       "      <td>compact</td>\n",
       "    </tr>\n",
       "    <tr>\n",
       "      <th>2</th>\n",
       "      <td>audi</td>\n",
       "      <td>a4</td>\n",
       "      <td>1.8</td>\n",
       "      <td>1999</td>\n",
       "      <td>4</td>\n",
       "      <td>manual(m5)</td>\n",
       "      <td>f</td>\n",
       "      <td>21</td>\n",
       "      <td>29</td>\n",
       "      <td>p</td>\n",
       "      <td>compact</td>\n",
       "    </tr>\n",
       "    <tr>\n",
       "      <th>3</th>\n",
       "      <td>audi</td>\n",
       "      <td>a4</td>\n",
       "      <td>2.0</td>\n",
       "      <td>2008</td>\n",
       "      <td>4</td>\n",
       "      <td>manual(m6)</td>\n",
       "      <td>f</td>\n",
       "      <td>20</td>\n",
       "      <td>31</td>\n",
       "      <td>p</td>\n",
       "      <td>compact</td>\n",
       "    </tr>\n",
       "    <tr>\n",
       "      <th>4</th>\n",
       "      <td>audi</td>\n",
       "      <td>a4</td>\n",
       "      <td>2.0</td>\n",
       "      <td>2008</td>\n",
       "      <td>4</td>\n",
       "      <td>auto(av)</td>\n",
       "      <td>f</td>\n",
       "      <td>21</td>\n",
       "      <td>30</td>\n",
       "      <td>p</td>\n",
       "      <td>compact</td>\n",
       "    </tr>\n",
       "    <tr>\n",
       "      <th>5</th>\n",
       "      <td>audi</td>\n",
       "      <td>a4</td>\n",
       "      <td>2.8</td>\n",
       "      <td>1999</td>\n",
       "      <td>6</td>\n",
       "      <td>auto(l5)</td>\n",
       "      <td>f</td>\n",
       "      <td>16</td>\n",
       "      <td>26</td>\n",
       "      <td>p</td>\n",
       "      <td>compact</td>\n",
       "    </tr>\n",
       "  </tbody>\n",
       "</table>\n",
       "</div>"
      ],
      "text/plain": [
       "  manufacturer model  displ  year  cyl       trans drv  cty  hwy fl    class\n",
       "1         audi    a4    1.8  1999    4    auto(l5)   f   18   29  p  compact\n",
       "2         audi    a4    1.8  1999    4  manual(m5)   f   21   29  p  compact\n",
       "3         audi    a4    2.0  2008    4  manual(m6)   f   20   31  p  compact\n",
       "4         audi    a4    2.0  2008    4    auto(av)   f   21   30  p  compact\n",
       "5         audi    a4    2.8  1999    6    auto(l5)   f   16   26  p  compact"
      ]
     },
     "execution_count": 2,
     "metadata": {},
     "output_type": "execute_result"
    }
   ],
   "source": [
    "from pydataset import data\n",
    "mpg = data('mpg')\n",
    "mpg.head()"
   ]
  },
  {
   "cell_type": "code",
   "execution_count": 5,
   "id": "588f6529",
   "metadata": {},
   "outputs": [
    {
     "data": {
      "text/plain": [
       "<bound method NDFrame.describe of     manufacturer   model  displ  year  cyl       trans drv  cty  hwy fl  \\\n",
       "1           audi      a4    1.8  1999    4    auto(l5)   f   18   29  p   \n",
       "2           audi      a4    1.8  1999    4  manual(m5)   f   21   29  p   \n",
       "3           audi      a4    2.0  2008    4  manual(m6)   f   20   31  p   \n",
       "4           audi      a4    2.0  2008    4    auto(av)   f   21   30  p   \n",
       "5           audi      a4    2.8  1999    6    auto(l5)   f   16   26  p   \n",
       "..           ...     ...    ...   ...  ...         ...  ..  ...  ... ..   \n",
       "230   volkswagen  passat    2.0  2008    4    auto(s6)   f   19   28  p   \n",
       "231   volkswagen  passat    2.0  2008    4  manual(m6)   f   21   29  p   \n",
       "232   volkswagen  passat    2.8  1999    6    auto(l5)   f   16   26  p   \n",
       "233   volkswagen  passat    2.8  1999    6  manual(m5)   f   18   26  p   \n",
       "234   volkswagen  passat    3.6  2008    6    auto(s6)   f   17   26  p   \n",
       "\n",
       "       class  \n",
       "1    compact  \n",
       "2    compact  \n",
       "3    compact  \n",
       "4    compact  \n",
       "5    compact  \n",
       "..       ...  \n",
       "230  midsize  \n",
       "231  midsize  \n",
       "232  midsize  \n",
       "233  midsize  \n",
       "234  midsize  \n",
       "\n",
       "[234 rows x 11 columns]>"
      ]
     },
     "execution_count": 5,
     "metadata": {},
     "output_type": "execute_result"
    }
   ],
   "source": [
    "mpg.describe"
   ]
  },
  {
   "cell_type": "code",
   "execution_count": null,
   "id": "784b9223",
   "metadata": {},
   "outputs": [],
   "source": [
    "usa_hp = df[df.origin == 'usa'].horsepower\n",
    "japan_hp = df[df.origin == 'japan'].horsepower"
   ]
  }
 ],
 "metadata": {
  "kernelspec": {
   "display_name": "Python 3 (ipykernel)",
   "language": "python",
   "name": "python3"
  },
  "language_info": {
   "codemirror_mode": {
    "name": "ipython",
    "version": 3
   },
   "file_extension": ".py",
   "mimetype": "text/x-python",
   "name": "python",
   "nbconvert_exporter": "python",
   "pygments_lexer": "ipython3",
   "version": "3.9.12"
  }
 },
 "nbformat": 4,
 "nbformat_minor": 5
}
