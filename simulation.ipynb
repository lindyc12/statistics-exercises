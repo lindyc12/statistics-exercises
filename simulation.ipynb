{
 "cells": [
  {
   "cell_type": "code",
   "execution_count": 1,
   "id": "de28d426",
   "metadata": {},
   "outputs": [],
   "source": [
    "import numpy as np\n",
    "import pandas as pd\n",
    "import matplotlib.pyplot as plt\n",
    "np.random.seed(29)"
   ]
  },
  {
   "cell_type": "code",
   "execution_count": 3,
   "id": "0e85b9f8",
   "metadata": {},
   "outputs": [
    {
     "data": {
      "text/plain": [
       "array([[3, 3],\n",
       "       [3, 3],\n",
       "       [2, 1],\n",
       "       ...,\n",
       "       [5, 6],\n",
       "       [5, 1],\n",
       "       [3, 6]])"
      ]
     },
     "execution_count": 3,
     "metadata": {},
     "output_type": "execute_result"
    }
   ],
   "source": [
    "#1\n",
    "roll = np.random.choice([1,2,3,4,5,6], size = (10_000, 2))\n",
    "roll"
   ]
  },
  {
   "cell_type": "code",
   "execution_count": 5,
   "id": "e4b682a0",
   "metadata": {},
   "outputs": [
    {
     "data": {
      "text/plain": [
       "0.1716"
      ]
     },
     "execution_count": 5,
     "metadata": {},
     "output_type": "execute_result"
    }
   ],
   "source": [
    "(roll[:,0] == roll[:,1]).mean()"
   ]
  },
  {
   "cell_type": "code",
   "execution_count": 7,
   "id": "456c2680",
   "metadata": {},
   "outputs": [
    {
     "data": {
      "text/plain": [
       "array([[1, 1, 0, ..., 1, 0, 0],\n",
       "       [1, 0, 0, ..., 0, 0, 0],\n",
       "       [0, 1, 1, ..., 1, 1, 0],\n",
       "       ...,\n",
       "       [1, 1, 0, ..., 0, 0, 1],\n",
       "       [1, 1, 1, ..., 1, 0, 1],\n",
       "       [0, 0, 0, ..., 1, 0, 1]])"
      ]
     },
     "execution_count": 7,
     "metadata": {},
     "output_type": "execute_result"
    }
   ],
   "source": [
    "#2\n",
    "\n",
    "flip = np.random.choice([0,1], size = (10_000, 8))\n",
    "flip"
   ]
  },
  {
   "cell_type": "code",
   "execution_count": 41,
   "id": "f0d554b8",
   "metadata": {},
   "outputs": [
    {
     "data": {
      "text/plain": [
       "0.2176"
      ]
     },
     "execution_count": 41,
     "metadata": {},
     "output_type": "execute_result"
    }
   ],
   "source": [
    "(flip.sum(axis = 1) == 3).mean()          "
   ]
  },
  {
   "cell_type": "code",
   "execution_count": 43,
   "id": "e5fcb452",
   "metadata": {},
   "outputs": [
    {
     "data": {
      "text/plain": [
       "0.6405"
      ]
     },
     "execution_count": 43,
     "metadata": {},
     "output_type": "execute_result"
    }
   ],
   "source": [
    "# prob of getting > 3 heads\n",
    "(flip.sum(axis = 1) > 3).mean()"
   ]
  },
  {
   "cell_type": "code",
   "execution_count": 44,
   "id": "71185970",
   "metadata": {},
   "outputs": [
    {
     "data": {
      "text/plain": [
       "array([[1, 0],\n",
       "       [1, 0],\n",
       "       [1, 0],\n",
       "       ...,\n",
       "       [1, 1],\n",
       "       [0, 1],\n",
       "       [1, 0]])"
      ]
     },
     "execution_count": 44,
     "metadata": {},
     "output_type": "execute_result"
    }
   ],
   "source": [
    "# WD = 0, DS = 1\n",
    "bb = np.random.choice([0, 1], size = (100000, 2), p = [0.75, 0.25])\n",
    "bb"
   ]
  },
  {
   "cell_type": "code",
   "execution_count": 45,
   "id": "49d48d0b",
   "metadata": {},
   "outputs": [],
   "source": [
    "p = (bb.sum(axis = 1) == 2).mean()"
   ]
  },
  {
   "cell_type": "code",
   "execution_count": 46,
   "id": "db2a9a75",
   "metadata": {},
   "outputs": [
    {
     "data": {
      "text/plain": [
       "0.06833041323020385"
      ]
     },
     "execution_count": 46,
     "metadata": {},
     "output_type": "execute_result"
    }
   ],
   "source": [
    "p/(1-p)"
   ]
  },
  {
   "cell_type": "code",
   "execution_count": 10,
   "id": "cb3dcd0b",
   "metadata": {},
   "outputs": [
    {
     "data": {
      "text/plain": [
       "array([[3.07898772, 2.61033891, 3.23539053, 4.13800932, 3.62732766],\n",
       "       [2.36067619, 4.2296515 , 3.45551609, 5.79892309, 6.51279368],\n",
       "       [1.47558409, 3.28685422, 2.69882974, 4.04777301, 4.11039379],\n",
       "       ...,\n",
       "       [2.34447006, 5.32011356, 1.61117562, 2.86243164, 3.134255  ],\n",
       "       [2.38352197, 4.02995486, 3.70894227, 2.50798071, 1.43390253],\n",
       "       [3.16698862, 3.01944006, 4.40032102, 4.07648934, 3.91113081]])"
      ]
     },
     "execution_count": 10,
     "metadata": {},
     "output_type": "execute_result"
    }
   ],
   "source": [
    "#4\n",
    "\n",
    "pop = np.random.normal(3, 1.5, size = (10_000, 5))\n",
    "pop"
   ]
  },
  {
   "cell_type": "code",
   "execution_count": 12,
   "id": "318510ef",
   "metadata": {},
   "outputs": [
    {
     "data": {
      "text/plain": [
       "0.7259"
      ]
     },
     "execution_count": 12,
     "metadata": {},
     "output_type": "execute_result"
    }
   ],
   "source": [
    "(pop.sum(axis = 1) < 17).mean()"
   ]
  },
  {
   "cell_type": "code",
   "execution_count": 13,
   "id": "54511257",
   "metadata": {},
   "outputs": [],
   "source": [
    "#5\n",
    "\n",
    "men = np.random.normal(178, 8, size = 10_000)\n",
    "women = np.random.normal(170, 6, size = 10_000)"
   ]
  },
  {
   "cell_type": "code",
   "execution_count": 16,
   "id": "a4ececba",
   "metadata": {},
   "outputs": [
    {
     "data": {
      "text/plain": [
       "0.2141"
      ]
     },
     "execution_count": 16,
     "metadata": {},
     "output_type": "execute_result"
    }
   ],
   "source": [
    "(women > men).mean()"
   ]
  },
  {
   "cell_type": "code",
   "execution_count": 18,
   "id": "d64987ae",
   "metadata": {},
   "outputs": [
    {
     "data": {
      "text/plain": [
       "array([[0, 0, 0, ..., 0, 0, 0],\n",
       "       [0, 0, 0, ..., 0, 0, 0],\n",
       "       [0, 0, 0, ..., 0, 0, 0],\n",
       "       ...,\n",
       "       [0, 0, 0, ..., 0, 0, 0],\n",
       "       [0, 0, 0, ..., 0, 0, 0],\n",
       "       [0, 0, 0, ..., 0, 0, 0]])"
      ]
     },
     "execution_count": 18,
     "metadata": {},
     "output_type": "execute_result"
    }
   ],
   "source": [
    "#6\n",
    "#0 = no issue, 1 = issue\n",
    "\n",
    "install = np.random.choice([0,1], size = (10_000, 50), p = [249/250, 1/250])\n",
    "install"
   ]
  },
  {
   "cell_type": "code",
   "execution_count": 19,
   "id": "bffdf0c9",
   "metadata": {},
   "outputs": [
    {
     "data": {
      "text/plain": [
       "0.8236"
      ]
     },
     "execution_count": 19,
     "metadata": {},
     "output_type": "execute_result"
    }
   ],
   "source": [
    "(install.sum(axis = 1) == 0).mean()"
   ]
  },
  {
   "cell_type": "code",
   "execution_count": 20,
   "id": "a31ae0c1",
   "metadata": {},
   "outputs": [
    {
     "data": {
      "text/plain": [
       "array([[0, 0, 0, ..., 0, 0, 0],\n",
       "       [0, 0, 0, ..., 0, 0, 0],\n",
       "       [0, 0, 0, ..., 1, 0, 0],\n",
       "       ...,\n",
       "       [0, 0, 0, ..., 0, 0, 0],\n",
       "       [0, 0, 0, ..., 0, 0, 0],\n",
       "       [0, 0, 0, ..., 0, 0, 0]])"
      ]
     },
     "execution_count": 20,
     "metadata": {},
     "output_type": "execute_result"
    }
   ],
   "source": [
    "install_100 = np.random.choice([0,1], size = (10_000, 100), p = [249/250, 1/250])\n",
    "install_100"
   ]
  },
  {
   "cell_type": "code",
   "execution_count": 21,
   "id": "2d51938f",
   "metadata": {},
   "outputs": [
    {
     "data": {
      "text/plain": [
       "0.6692"
      ]
     },
     "execution_count": 21,
     "metadata": {},
     "output_type": "execute_result"
    }
   ],
   "source": [
    "# 100 students\n",
    "\n",
    "(install_100.sum(axis = 1) == 0).mean()"
   ]
  },
  {
   "cell_type": "code",
   "execution_count": 23,
   "id": "73bd910f",
   "metadata": {},
   "outputs": [
    {
     "data": {
      "text/plain": [
       "array([[0, 0, 0, ..., 0, 0, 0],\n",
       "       [0, 0, 0, ..., 0, 0, 0],\n",
       "       [0, 0, 0, ..., 0, 0, 0],\n",
       "       ...,\n",
       "       [0, 0, 0, ..., 0, 0, 0],\n",
       "       [0, 0, 0, ..., 0, 0, 0],\n",
       "       [0, 0, 0, ..., 0, 0, 0]])"
      ]
     },
     "execution_count": 23,
     "metadata": {},
     "output_type": "execute_result"
    }
   ],
   "source": [
    "install_150 = np.random.choice([0,1], size = (10_000, 150), p = [249/250, 1/250])\n",
    "install_150"
   ]
  },
  {
   "cell_type": "code",
   "execution_count": 24,
   "id": "71469b80",
   "metadata": {},
   "outputs": [
    {
     "data": {
      "text/plain": [
       "0.4531"
      ]
     },
     "execution_count": 24,
     "metadata": {},
     "output_type": "execute_result"
    }
   ],
   "source": [
    "#150 students with one issue\n",
    "(install_150.sum(axis = 1) > 0).mean()"
   ]
  },
  {
   "cell_type": "code",
   "execution_count": 25,
   "id": "fa63e02d",
   "metadata": {},
   "outputs": [
    {
     "data": {
      "text/plain": [
       "array([[0, 0, 0, ..., 0, 0, 0],\n",
       "       [0, 0, 0, ..., 0, 0, 0],\n",
       "       [0, 0, 0, ..., 0, 0, 0],\n",
       "       ...,\n",
       "       [0, 0, 0, ..., 0, 0, 0],\n",
       "       [0, 0, 0, ..., 0, 0, 0],\n",
       "       [0, 0, 0, ..., 0, 0, 0]])"
      ]
     },
     "execution_count": 25,
     "metadata": {},
     "output_type": "execute_result"
    }
   ],
   "source": [
    "#450 students\n",
    "\n",
    "install_450 = np.random.choice([0,1], size = (10_000, 450), p = [249/250, 1/250])\n",
    "install_450"
   ]
  },
  {
   "cell_type": "code",
   "execution_count": 26,
   "id": "84d89ad5",
   "metadata": {},
   "outputs": [
    {
     "data": {
      "text/plain": [
       "0.1655"
      ]
     },
     "execution_count": 26,
     "metadata": {},
     "output_type": "execute_result"
    }
   ],
   "source": [
    "(install_450.sum(axis = 1) == 0).mean()"
   ]
  },
  {
   "cell_type": "code",
   "execution_count": 29,
   "id": "dc76ca95",
   "metadata": {},
   "outputs": [
    {
     "data": {
      "text/plain": [
       "array([[1, 1, 1],\n",
       "       [1, 1, 1],\n",
       "       [1, 1, 1],\n",
       "       ...,\n",
       "       [0, 1, 1],\n",
       "       [0, 0, 0],\n",
       "       [1, 1, 1]])"
      ]
     },
     "execution_count": 29,
     "metadata": {},
     "output_type": "execute_result"
    }
   ],
   "source": [
    "# 7\n",
    "# 0= no truck, 1 = truck shows \n",
    "\n",
    "truck = np.random.choice([0 ,1], size = (10_000, 3), p = [0.3, 0.7])\n",
    "truck"
   ]
  },
  {
   "cell_type": "code",
   "execution_count": 32,
   "id": "30f0f066",
   "metadata": {},
   "outputs": [
    {
     "data": {
      "text/plain": [
       "0.0271"
      ]
     },
     "execution_count": 32,
     "metadata": {},
     "output_type": "execute_result"
    }
   ],
   "source": [
    "(truck.sum(axis = 1) == 0).mean()"
   ]
  },
  {
   "cell_type": "code",
   "execution_count": 33,
   "id": "9aced02f",
   "metadata": {},
   "outputs": [
    {
     "data": {
      "text/plain": [
       "array([[1, 0],\n",
       "       [0, 1],\n",
       "       [0, 0],\n",
       "       ...,\n",
       "       [1, 1],\n",
       "       [1, 0],\n",
       "       [1, 1]])"
      ]
     },
     "execution_count": 33,
     "metadata": {},
     "output_type": "execute_result"
    }
   ],
   "source": [
    "trucks1 = np.random.choice([0 ,1], size = (10_000, 2), p = [0.3, 0.7])\n",
    "trucks1"
   ]
  },
  {
   "cell_type": "code",
   "execution_count": 35,
   "id": "8f0a533b",
   "metadata": {},
   "outputs": [
    {
     "data": {
      "text/plain": [
       "0.9079"
      ]
     },
     "execution_count": 35,
     "metadata": {},
     "output_type": "execute_result"
    }
   ],
   "source": [
    "\n",
    "(trucks1.sum(axis = 1) > 0).mean()"
   ]
  },
  {
   "cell_type": "code",
   "execution_count": 37,
   "id": "9203e5bd",
   "metadata": {},
   "outputs": [
    {
     "data": {
      "text/plain": [
       "array([[272,  10, 168, ...,  80, 265,   7],\n",
       "       [281, 327, 211, ...,  77, 169, 347],\n",
       "       [256, 352, 279, ...,  63, 356,  14],\n",
       "       ...,\n",
       "       [ 68, 220,  31, ..., 171, 114,  19],\n",
       "       [213, 197, 196, ..., 107, 339, 198],\n",
       "       [301,  25, 119, ..., 348, 107, 339]])"
      ]
     },
     "execution_count": 37,
     "metadata": {},
     "output_type": "execute_result"
    }
   ],
   "source": [
    "# 8 \n",
    "\n",
    "bday = np.random.choice(range(1,366), size = (10_000, 23))\n",
    "bday"
   ]
  },
  {
   "cell_type": "code",
   "execution_count": 39,
   "id": "16a54352",
   "metadata": {},
   "outputs": [
    {
     "data": {
      "text/plain": [
       "0.5105"
      ]
     },
     "execution_count": 39,
     "metadata": {},
     "output_type": "execute_result"
    }
   ],
   "source": [
    "(pd.DataFrame(bday).nunique(axis = 1) < 23).mean()"
   ]
  },
  {
   "cell_type": "code",
   "execution_count": null,
   "id": "8180a03f",
   "metadata": {},
   "outputs": [],
   "source": []
  }
 ],
 "metadata": {
  "kernelspec": {
   "display_name": "Python 3 (ipykernel)",
   "language": "python",
   "name": "python3"
  },
  "language_info": {
   "codemirror_mode": {
    "name": "ipython",
    "version": 3
   },
   "file_extension": ".py",
   "mimetype": "text/x-python",
   "name": "python",
   "nbconvert_exporter": "python",
   "pygments_lexer": "ipython3",
   "version": "3.9.12"
  }
 },
 "nbformat": 4,
 "nbformat_minor": 5
}
